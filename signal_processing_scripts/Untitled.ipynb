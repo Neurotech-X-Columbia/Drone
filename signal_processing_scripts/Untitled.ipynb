{
 "cells": [
  {
   "cell_type": "code",
   "execution_count": 1,
   "id": "5fe6ba27",
   "metadata": {},
   "outputs": [],
   "source": [
    "import argparse\n",
    "import time\n",
    "import numpy as np\n",
    "import pandas as pd"
   ]
  },
  {
   "cell_type": "code",
   "execution_count": 3,
   "id": "0fe64ec9",
   "metadata": {},
   "outputs": [
    {
     "name": "stdout",
     "output_type": "stream",
     "text": [
      "Collecting brainflow\n",
      "  Downloading brainflow-4.9.3-py3-none-any.whl (24.1 MB)\n",
      "     ---------------------------------------- 24.1/24.1 MB 4.0 MB/s eta 0:00:00\n",
      "Requirement already satisfied: numpy in c:\\users\\noupo\\appdata\\local\\mambaforge\\lib\\site-packages (from brainflow) (1.22.3)\n",
      "Collecting nptyping==1.4.4\n",
      "  Downloading nptyping-1.4.4-py3-none-any.whl (31 kB)\n",
      "Collecting typish>=1.7.0\n",
      "  Downloading typish-1.9.3-py3-none-any.whl (45 kB)\n",
      "     ---------------------------------------- 45.1/45.1 KB 1.1 MB/s eta 0:00:00\n",
      "Installing collected packages: typish, nptyping, brainflow\n",
      "Successfully installed brainflow-4.9.3 nptyping-1.4.4 typish-1.9.3\n"
     ]
    }
   ],
   "source": [
    "import sys \n",
    "!{sys.executable} -m pip install brainflow"
   ]
  },
  {
   "cell_type": "code",
   "execution_count": 4,
   "id": "1e73c5f6",
   "metadata": {},
   "outputs": [],
   "source": [
    "import brainflow\n",
    "from brainflow.board_shim import BoardShim, BrainFlowInputParams, LogLevels, BoardIds\n",
    "from brainflow.data_filter import DataFilter, FilterTypes, AggOperations"
   ]
  },
  {
   "cell_type": "code",
   "execution_count": null,
   "id": "c1cf4493",
   "metadata": {},
   "outputs": [],
   "source": [
    "params = BrainFlowInputParams()\n",
    "params.serial_port = \n",
    "\n",
    "board = BoardShim(board_id, params)"
   ]
  }
 ],
 "metadata": {
  "kernelspec": {
   "display_name": "Python 3 (ipykernel)",
   "language": "python",
   "name": "python3"
  },
  "language_info": {
   "codemirror_mode": {
    "name": "ipython",
    "version": 3
   },
   "file_extension": ".py",
   "mimetype": "text/x-python",
   "name": "python",
   "nbconvert_exporter": "python",
   "pygments_lexer": "ipython3",
   "version": "3.9.10"
  }
 },
 "nbformat": 4,
 "nbformat_minor": 5
}
